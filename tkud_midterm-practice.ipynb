{
 "cells": [
  {
   "cell_type": "markdown",
   "metadata": {},
   "source": [
    "# Ôn tập giữa kỳ\n"
   ]
  },
  {
   "cell_type": "code",
   "execution_count": 1,
   "metadata": {},
   "outputs": [],
   "source": [
    "# import library...\n",
    "# ...\n",
    "import pandas as pd\n",
    "import numpy as np\n",
    "import matplotlib.pyplot as plt\n",
    "\n",
    "from scipy.stats import binom\n",
    "from scipy.stats import poisson\n",
    "from scipy.stats import norm\n",
    "from scipy.stats import t\n",
    "from scipy.stats import chi2"
   ]
  },
  {
   "cell_type": "markdown",
   "metadata": {},
   "source": [
    "## ĐỀ BÀI\n",
    "\n",
    "Hệ thống giám sát rủi ro dựa trên hành vi (The Behavior Risk Factor Surveilance System - BRFSS) là một cuộc khảo sát qua điện thoại hàng năm với 350.000 người ở Hoa Kỳ. Như tên gọi của nó, BRFSS được thiết kế để xác định các yếu tố nguy cơ ở người trưởng thành và báo cáo các xu hướng sức khỏe mớ. Ví dụ, người trả lời được hỏi về chế độ ăn uống và hoạt động thể chất hàng tuần, tình trạng HIV/AIDS, khả năng sử dụng thuốc lá và thậm chí cả mức độ chi trả dịch vụ chăm sóc sức khỏe của họ. \n",
    "\n",
    "Bộ dữ liệu **brfss_2000** chứa thông tin khảo sát năm 2000, với hơn 200 thông tin. Trong bộ dữ liệu này, ta chỉ khảo sát một số thông tin sau:\n",
    "-\tgenhlth: người khảo sát tự đánh giá sức khỏe (excellent, very good, good, fair or poor)\n",
    "-\texerany: cho biết có hoạt động thể chất nào trong tháng gần nhất hay không, có (1), không (0)\n",
    "-\thlthplan: có bảo hiểm (1) hay không (0)\n",
    "-\tsmoke100: tổng số điếu thuốc đã hút ít nhất\n",
    "-\theight: chiều cao (inches)\n",
    "-\tweight: cân nặng (pounds)\n",
    "-\twtdesire:  cân nặng mong muốn(pounds)\n",
    "-\tage: tuổi\n",
    "-\tgender: giới tính: nam(m), nữ(f)\n"
   ]
  },
  {
   "cell_type": "markdown",
   "metadata": {},
   "source": [
    "### Câu 1:\n",
    "\n",
    "Đọc hai bộ dữ liệu trên và cho biết mỗi bộ dữ liệu có kích thước bao nhiêu dòng, bao nhiêu cột?"
   ]
  },
  {
   "cell_type": "code",
   "execution_count": 3,
   "metadata": {},
   "outputs": [
    {
     "data": {
      "text/plain": [
       "(20000, 9)"
      ]
     },
     "execution_count": 3,
     "metadata": {},
     "output_type": "execute_result"
    }
   ],
   "source": [
    "df = pd.read_csv('../on/brfss_2000.csv',header = 0)\n",
    "\n",
    "df.shape"
   ]
  },
  {
   "cell_type": "markdown",
   "metadata": {},
   "source": [
    "### Câu 2\n",
    "\n",
    "a, Tính tỷ lệ nam nữ\n",
    "\n",
    "b, Trong số những người tập thể thao, tỷ lệ những người tự đánh giá có sức khỏe kém là bao nhiêu?"
   ]
  },
  {
   "cell_type": "code",
   "execution_count": 24,
   "metadata": {},
   "outputs": [
    {
     "name": "stdout",
     "output_type": "stream",
     "text": [
      "Tỷ lệ nam là : [47.845]\n",
      "Tỷ lệ nữ là : [52.155]\n",
      "Tỷ lệ những người tự đánh giá có sức khỏe kém là : [0.01964597]\n"
     ]
    }
   ],
   "source": [
    "#a\n",
    "df.head(10)\n",
    "f,m = df.groupby('gender')['gender'].agg(['count']).values\n",
    "total = f+m\n",
    "nam = m/total\n",
    "nu = 1 - nam\n",
    "\n",
    "print(f\"Tỷ lệ nam là : {nam*100}\")\n",
    "print(f\"Tỷ lệ nữ là : {nu*100}\")\n",
    "\n",
    "#b\n",
    "\n",
    "df.head(10)\n",
    "poor = df[(df['exerany'] == 1) & (df['genhlth'] == 'poor')]['genhlth'].agg(['count']).values\n",
    "total = df[(df['exerany'] == 1)]['genhlth'].agg(['count']).values\n",
    "tyle = poor/total\n",
    "print(f\"Tỷ lệ những người tự đánh giá có sức khỏe kém là : {tyle}\")"
   ]
  },
  {
   "cell_type": "markdown",
   "metadata": {},
   "source": [
    "### Câu 3\n",
    "\n",
    "a, Đổi đơn vị chiều cao từ inches sang centimet, đơn vị cân nặng từ pound sang kg.\n",
    "\n",
    "b, Tính tỷ lệ những người muốn giảm cân."
   ]
  },
  {
   "cell_type": "code",
   "execution_count": 34,
   "metadata": {},
   "outputs": [
    {
     "name": "stdout",
     "output_type": "stream",
     "text": [
      "Tỷ lệ những người muốn giảm cân [0.6382]\n"
     ]
    }
   ],
   "source": [
    "#a\n",
    "df['height_cm'] = df['height'] * 2.54\n",
    "df['weight_kg'] = df['weight'] / 2.20462\n",
    "\n",
    "#b\n",
    "nguoigiamcan = df[df['weight'] > df['wtdesire']]['age'].agg(['count']).values\n",
    "tyle = nguoigiamcan / df.shape[0]\n",
    "\n",
    "print(f\"Tỷ lệ những người muốn giảm cân {tyle}\")"
   ]
  },
  {
   "cell_type": "markdown",
   "metadata": {},
   "source": [
    "### Câu 4:\n",
    "\n",
    "a, Theo bạn trong các thuộc tính trên, thuộc tính nào có phân phối chuẩn. Vẽ hình minh họa\n",
    "\n",
    "b, Vẽ đồ thị boxplot so sánh cân nặng của những người có tập thể dục"
   ]
  },
  {
   "cell_type": "code",
   "execution_count": 37,
   "metadata": {},
   "outputs": [
    {
     "name": "stderr",
     "output_type": "stream",
     "text": [
      "C:\\Users\\ADMIN\\AppData\\Local\\Temp\\ipykernel_18716\\1685939204.py:6: MatplotlibDeprecationWarning: The 'labels' parameter of boxplot() has been renamed 'tick_labels' since Matplotlib 3.9; support for the old name will be dropped in 3.11.\n",
      "  plt.boxplot(x=[data1['weight']], labels=['data1'])\n"
     ]
    },
    {
     "data": {
      "image/png": "[encoded data removed]",
      "text/plain": [
       "<Figure size 640x480 with 1 Axes>"
      ]
     },
     "metadata": {},
     "output_type": "display_data"
    }
   ],
   "source": [
    "#a) Các biến có phân phối chuẩn thường là các biến liên tục, có giá trị tập trung quanh trung bình và phân bố đối xứng (height, weight, w)\n",
    "\n",
    "#b\n",
    "data1 = df[df['exerany'] == 1]     \n",
    "\n",
    "plt.boxplot(x=[data1['weight']], labels=['data1'])\n",
    "plt.title(\"Boxplot\")\n",
    "\n",
    "plt.show()\n"
   ]
  },
  {
   "cell_type": "markdown",
   "metadata": {},
   "source": [
    "\n",
    "### Câu 5\n",
    "\n",
    "Phân bố tuổi tác trong mẫu: Hãy mô tả phân bố tuổi của người tham gia khảo sát. Tuổi trung bình, độ lệch chuẩn, và các phân vị 25%, 50%, 75% là bao nhiêu?\n",
    "\n"
   ]
  },
  {
   "cell_type": "code",
   "execution_count": null,
   "metadata": {},
   "outputs": [],
   "source": []
  },
  {
   "cell_type": "markdown",
   "metadata": {},
   "source": [
    "### Câu 6\n",
    "\n",
    "Tỉ lệ người hút thuốc: Tính tỉ lệ phần trăm người tham gia khảo sát hiện đang hút thuốc lá. Liệu có sự khác biệt đáng kể về tỉ lệ này giữa các nhóm tuổi khác nhau không?\n",
    "\n"
   ]
  },
  {
   "cell_type": "code",
   "execution_count": null,
   "metadata": {},
   "outputs": [
    {
     "name": "stdout",
     "output_type": "stream",
     "text": [
      "Tỷ lệ người tham gia hút thuốc [0.47205]\n"
     ]
    },
    {
     "data": {
      "image/png": "[encoded data removed]",
      "text/plain": [
       "<Figure size 640x480 with 1 Axes>"
      ]
     },
     "metadata": {},
     "output_type": "display_data"
    }
   ],
   "source": [
    "smoke = df[df['smoke100'] == 1]['smoke100'].agg(['count']).values\n",
    "total = df.shape[0]\n",
    "tyle = smoke/total\n",
    "print(f\"Tỷ lệ người tham gia hút thuốc {tyle}\")\n",
    "data = df.groupby('age')['smoke100'].agg(['count']).reset_index()\n",
    "\n",
    "\n",
    "plt.bar(data['age'],data['count'])\n",
    "plt.show()"
   ]
  },
  {
   "cell_type": "markdown",
   "metadata": {},
   "source": [
    "### Câu 7\n",
    "\n",
    "BMI trung bình theo giới tính: Tính chỉ số BMI trung bình cho nam và nữ trong mẫu. \n",
    "\n"
   ]
  },
  {
   "cell_type": "code",
   "execution_count": 47,
   "metadata": {},
   "outputs": [
    {
     "name": "stdout",
     "output_type": "stream",
     "text": [
      "Chỉ số BMI trung cho nam là [26.92636658]\n",
      "Chỉ số BMI trung bình cho nữ là [25.74372573]\n"
     ]
    }
   ],
   "source": [
    "df['BMI'] = df['weight_kg'] / pow(df['height_cm'] /100,2)\n",
    "\n",
    "bminam = df[df['gender'] == 'm']['BMI'].agg(['mean']).values\n",
    "bminu = df[df['gender'] == 'f']['BMI'].agg(['mean']).values\n",
    "\n",
    "print(f\"Chỉ số BMI trung cho nam là {bminam}\")\n",
    "print(f\"Chỉ số BMI trung bình cho nữ là {bminu}\")"
   ]
  },
  {
   "cell_type": "markdown",
   "metadata": {},
   "source": [
    "### câu 8\n",
    "\n",
    "Phân tích tỉ lệ bệnh béo phì: Sử dụng các tiêu chuẩn của CDC về chỉ số BMI để phân loại người tham gia vào nhóm béo phì. Tính tỉ lệ béo phì theo giới tính và độ tuổi. "
   ]
  },
  {
   "cell_type": "code",
   "execution_count": 57,
   "metadata": {},
   "outputs": [
    {
     "data": {
      "text/html": [
       "<div>\n",
       "<style scoped>\n",
       "    .dataframe tbody tr th:only-of-type {\n",
       "        vertical-align: middle;\n",
       "    }\n",
       "\n",
       "    .dataframe tbody tr th {\n",
       "        vertical-align: top;\n",
       "    }\n",
       "\n",
       "    .dataframe thead th {\n",
       "        text-align: right;\n",
       "    }\n",
       "</style>\n",
       "<table border=\"1\" class=\"dataframe\">\n",
       "  <thead>\n",
       "    <tr style=\"text-align: right;\">\n",
       "      <th></th>\n",
       "      <th></th>\n",
       "      <th>mean</th>\n",
       "    </tr>\n",
       "    <tr>\n",
       "      <th>gender</th>\n",
       "      <th>age</th>\n",
       "      <th></th>\n",
       "    </tr>\n",
       "  </thead>\n",
       "  <tbody>\n",
       "    <tr>\n",
       "      <th rowspan=\"5\" valign=\"top\">f</th>\n",
       "      <th>18</th>\n",
       "      <td>0.068966</td>\n",
       "    </tr>\n",
       "    <tr>\n",
       "      <th>19</th>\n",
       "      <td>0.069444</td>\n",
       "    </tr>\n",
       "    <tr>\n",
       "      <th>20</th>\n",
       "      <td>0.099448</td>\n",
       "    </tr>\n",
       "    <tr>\n",
       "      <th>21</th>\n",
       "      <td>0.098765</td>\n",
       "    </tr>\n",
       "    <tr>\n",
       "      <th>22</th>\n",
       "      <td>0.100000</td>\n",
       "    </tr>\n",
       "    <tr>\n",
       "      <th>...</th>\n",
       "      <th>...</th>\n",
       "      <td>...</td>\n",
       "    </tr>\n",
       "    <tr>\n",
       "      <th rowspan=\"5\" valign=\"top\">m</th>\n",
       "      <th>90</th>\n",
       "      <td>0.000000</td>\n",
       "    </tr>\n",
       "    <tr>\n",
       "      <th>91</th>\n",
       "      <td>0.000000</td>\n",
       "    </tr>\n",
       "    <tr>\n",
       "      <th>92</th>\n",
       "      <td>0.000000</td>\n",
       "    </tr>\n",
       "    <tr>\n",
       "      <th>93</th>\n",
       "      <td>0.000000</td>\n",
       "    </tr>\n",
       "    <tr>\n",
       "      <th>94</th>\n",
       "      <td>0.000000</td>\n",
       "    </tr>\n",
       "  </tbody>\n",
       "</table>\n",
       "<p>158 rows × 1 columns</p>\n",
       "</div>"
      ],
      "text/plain": [
       "                mean\n",
       "gender age          \n",
       "f      18   0.068966\n",
       "       19   0.069444\n",
       "       20   0.099448\n",
       "       21   0.098765\n",
       "       22   0.100000\n",
       "...              ...\n",
       "m      90   0.000000\n",
       "       91   0.000000\n",
       "       92   0.000000\n",
       "       93   0.000000\n",
       "       94   0.000000\n",
       "\n",
       "[158 rows x 1 columns]"
      ]
     },
     "execution_count": 57,
     "metadata": {},
     "output_type": "execute_result"
    }
   ],
   "source": [
    "df['isFat'] = df['BMI'] >=30\n",
    "\n",
    "df.groupby(['gender','age'])['isFat'].agg(['mean'])\n"
   ]
  },
  {
   "cell_type": "markdown",
   "metadata": {},
   "source": [
    "---"
   ]
  }
 ],
 "metadata": {
  "kernelspec": {
   "display_name": "Python 3",
   "language": "python",
   "name": "python3"
  },
  "language_info": {
   "codemirror_mode": {
    "name": "ipython",
    "version": 3
   },
   "file_extension": ".py",
   "mimetype": "text/x-python",
   "name": "python",
   "nbconvert_exporter": "python",
   "pygments_lexer": "ipython3",
   "version": "3.12.5"
  }
 },
 "nbformat": 4,
 "nbformat_minor": 2
}
